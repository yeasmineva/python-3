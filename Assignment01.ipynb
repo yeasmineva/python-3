{
  "nbformat": 4,
  "nbformat_minor": 0,
  "metadata": {
    "colab": {
      "provenance": [],
      "authorship_tag": "ABX9TyO92aLNWUfXth5vnyQJoaeR",
      "include_colab_link": true
    },
    "kernelspec": {
      "name": "python3",
      "display_name": "Python 3"
    },
    "language_info": {
      "name": "python"
    }
  },
  "cells": [
    {
      "cell_type": "markdown",
      "metadata": {
        "id": "view-in-github",
        "colab_type": "text"
      },
      "source": [
        "<a href=\"https://colab.research.google.com/github/yeasmineva/python-3/blob/main/Assignment01.ipynb\" target=\"_parent\"><img src=\"https://colab.research.google.com/assets/colab-badge.svg\" alt=\"Open In Colab\"/></a>"
      ]
    },
    {
      "cell_type": "markdown",
      "source": [
        "# Yeasmin Sultana Eva\n",
        "# Id. 20229004\n",
        "\n"
      ],
      "metadata": {
        "id": "_YH30z_UjmH-"
      }
    },
    {
      "cell_type": "markdown",
      "source": [
        "New Section"
      ],
      "metadata": {
        "id": "G1W-HW3xjaU8"
      }
    },
    {
      "cell_type": "markdown",
      "source": [
        "1. . Write a Python program to count the number of characters (character frequency) in a string.\n",
        "Sample String : google.com Expected Result : {'o': 3, 'g': 2, '.': 1, 'e': 1, 'l': 1, 'm': 1, 'c': 1}"
      ],
      "metadata": {
        "id": "4v8U-fQZcWKL"
      }
    },
    {
      "cell_type": "code",
      "source": [
        "string = \"instragram.com\"\n",
        "char_freq = {}\n",
        "\n",
        "for char in string:\n",
        "    if char in char_freq:\n",
        "        char_freq[char] += 1\n",
        "    else:\n",
        "        char_freq[char] = 1\n",
        "\n",
        "print(char_freq)"
      ],
      "metadata": {
        "colab": {
          "base_uri": "https://localhost:8080/"
        },
        "id": "SrwtP89Mcc8l",
        "outputId": "256c3c93-5de6-468c-a596-7228406c9c0f"
      },
      "execution_count": 9,
      "outputs": [
        {
          "output_type": "stream",
          "name": "stdout",
          "text": [
            "{'i': 1, 'n': 1, 's': 1, 't': 1, 'r': 2, 'a': 2, 'g': 1, 'm': 2, '.': 1, 'c': 1, 'o': 1}\n"
          ]
        }
      ]
    },
    {
      "cell_type": "markdown",
      "source": [
        "2. Write a Python program to check if a given key already exists in a dictionary.\n",
        "\n"
      ],
      "metadata": {
        "id": "mMXz4j5HdIcr"
      }
    },
    {
      "cell_type": "code",
      "source": [
        "# Sample dictionary\n",
        "my_dict = {'name': 'John', 'age': 30, 'gender': 'Male'}\n",
        "\n",
        "# Key to check\n",
        "key = 'name'\n",
        "\n",
        "# Check if key exists in the dictionary\n",
        "if key in my_dict:\n",
        "    print(f\"The key '{key}' already exists in the dictionary.\")\n",
        "else:\n",
        "    print(f\"The key '{key}' does not exist in the dictionary.\")"
      ],
      "metadata": {
        "colab": {
          "base_uri": "https://localhost:8080/"
        },
        "id": "LVP1qT3ldwq9",
        "outputId": "0e8293e2-713f-45a8-e2c5-11724b6f2ebf"
      },
      "execution_count": 10,
      "outputs": [
        {
          "output_type": "stream",
          "name": "stdout",
          "text": [
            "The key 'name' already exists in the dictionary.\n"
          ]
        }
      ]
    },
    {
      "cell_type": "markdown",
      "source": [
        "3. Write a Python program that accepts a sequence of comma-separated numbers from the user\n",
        "and generates a list and a tuple of those numbers. Sample data : 1, 5, 7, 23 Expected Output :\n",
        "List : ['1', ' 5', ' 7', ' 23'] Tuple : ('1', ' 5', ' 7', ' 23’)"
      ],
      "metadata": {
        "id": "yfFjFjT9eRxD"
      }
    },
    {
      "cell_type": "code",
      "source": [
        "# Accept comma-separated input from the user\n",
        "input_str = input(\"Enter comma-separated numbers: \")\n",
        "\n",
        "# Split the input string into a list of numbers\n",
        "num_list = input_str.split(\",\")\n",
        "\n",
        "# Create a tuple of the same numbers\n",
        "num_tuple = tuple(num_list)\n",
        "\n",
        "# Print the list and tuple\n",
        "print(f\"List: {num_list}\")\n",
        "print(f\"Tuple: {num_tuple}\")"
      ],
      "metadata": {
        "colab": {
          "base_uri": "https://localhost:8080/"
        },
        "id": "lVur6TqaeddK",
        "outputId": "11bfb015-471e-4c84-d79f-8ca54c5ec0d7"
      },
      "execution_count": 8,
      "outputs": [
        {
          "output_type": "stream",
          "name": "stdout",
          "text": [
            "Enter comma-separated numbers: 1,5,7,27\n",
            "List: ['1', '5', '7', '27']\n",
            "Tuple: ('1', '5', '7', '27')\n"
          ]
        }
      ]
    },
    {
      "cell_type": "markdown",
      "source": [
        "4. Write a Python program to calculate the number of days between two dates. Sample dates :\n",
        "(2014, 7, 2), (2014, 7, 11) Expected output : 9 days"
      ],
      "metadata": {
        "id": "ThoZJ5TVhNwP"
      }
    },
    {
      "cell_type": "code",
      "source": [
        "from datetime import date\n",
        "\n",
        "# Define the two dates as tuples\n",
        "date1 = date(2014, 7, 2)\n",
        "date2 = date(2014, 7, 11)\n",
        "\n",
        "# Calculate the difference between the two dates\n",
        "delta = date2 - date1\n",
        "\n",
        "# Print the number of days\n",
        "print(f\"{delta.days} days\")"
      ],
      "metadata": {
        "colab": {
          "base_uri": "https://localhost:8080/"
        },
        "id": "h0msSc0lhUoM",
        "outputId": "9518e9b4-cae0-4a09-c151-f9a862c550f2"
      },
      "execution_count": 11,
      "outputs": [
        {
          "output_type": "stream",
          "name": "stdout",
          "text": [
            "9 days\n"
          ]
        }
      ]
    },
    {
      "cell_type": "markdown",
      "source": [
        "5. Write a Python program to solve (x + y) * (x + y). Test Data : x = 4, y = 3 Expected Output : (4\n",
        "+ 3) ^ 2) = 49."
      ],
      "metadata": {
        "id": "DtIyfMfuhkLM"
      }
    },
    {
      "cell_type": "code",
      "source": [
        "# Define the values of x and y\n",
        "x = 4\n",
        "y = 3\n",
        "\n",
        "# Evaluate the expression (x + y) * (x + y)\n",
        "result = (x + y) * (x + y)\n",
        "\n",
        "# Print the result\n",
        "print(f\"({x} + {y}) ^ 2 = {result}\")"
      ],
      "metadata": {
        "colab": {
          "base_uri": "https://localhost:8080/"
        },
        "id": "zMNl1uaDhuV2",
        "outputId": "5b49046c-db77-46d7-98ac-6534489c4d71"
      },
      "execution_count": 12,
      "outputs": [
        {
          "output_type": "stream",
          "name": "stdout",
          "text": [
            "(4 + 3) ^ 2 = 49\n"
          ]
        }
      ]
    },
    {
      "cell_type": "markdown",
      "source": [
        "6. Write a Python program to compute the future value of a specified principal amount, rate of\n",
        "interest, and number of years. Test Data : amt = 10000, int = 3.5, years = 7\n",
        "Expected Output : 12722"
      ],
      "metadata": {
        "id": "i7ZwPKPUh1JH"
      }
    },
    {
      "cell_type": "code",
      "source": [
        "# Define the principal amount, rate of interest, and number of years\n",
        "amt = 10000\n",
        "int_rate = 3.5\n",
        "years = 7\n",
        "\n",
        "# Calculate the future value using the formula: FV = PV * (1 + r/100)^n\n",
        "fv = amt * (1 + int_rate/100)**years\n",
        "\n",
        "# Print the future value\n",
        "print(f\"Future value: {round(fv, 2)}\")"
      ],
      "metadata": {
        "colab": {
          "base_uri": "https://localhost:8080/"
        },
        "id": "btBqNpPFh8b6",
        "outputId": "3ec1370d-55fb-4028-8092-d2080f8f3eaf"
      },
      "execution_count": 13,
      "outputs": [
        {
          "output_type": "stream",
          "name": "stdout",
          "text": [
            "Future value: 12722.79\n"
          ]
        }
      ]
    },
    {
      "cell_type": "markdown",
      "source": [
        "7. Write a Python program that removes duplicate elements from a given array of numbers so\n",
        "that each element appears only once and returns the new length of the array. Sample Input:\n",
        "[0,0,1,1,2,2,3,3,4,4,4] Sample Output: The list of unique numbers: [0,1,2,3,4] length of the\n",
        "unique list : 5"
      ],
      "metadata": {
        "id": "gvlzQgZHiCFi"
      }
    },
    {
      "cell_type": "code",
      "source": [
        "# Define the input array\n",
        "arr = [0, 0, 1, 1, 2, 2, 3, 3, 4, 4, 4]\n",
        "\n",
        "# Create a set from the input array to remove duplicates\n",
        "unique_set = set(arr)\n",
        "\n",
        "# Convert the set back to a list to preserve the order of the elements\n",
        "unique_list = list(unique_set)\n",
        "\n",
        "# Print the list of unique numbers and its length\n",
        "print(f\"The list of unique numbers: {unique_list}\")\n",
        "print(f\"Length of the unique list: {len(unique_list)}\")"
      ],
      "metadata": {
        "colab": {
          "base_uri": "https://localhost:8080/"
        },
        "id": "wSZ0Cj01iI6P",
        "outputId": "bdf23849-038f-4c1b-cd19-fe6b38123116"
      },
      "execution_count": 14,
      "outputs": [
        {
          "output_type": "stream",
          "name": "stdout",
          "text": [
            "The list of unique numbers: [0, 1, 2, 3, 4]\n",
            "Length of the unique list: 5\n"
          ]
        }
      ]
    },
    {
      "cell_type": "markdown",
      "source": [
        "8. Write a Python program to sort (ascending and descending) a dictionary by key value.\n"
      ],
      "metadata": {
        "id": "juAmhiw8iPHn"
      }
    },
    {
      "cell_type": "code",
      "source": [
        "# Define the input dictionary\n",
        "my_dict = {'apple': 3, 'banana': 2, 'orange': 1, 'pear': 4}\n",
        "\n",
        "# Sort the dictionary by key in ascending order\n",
        "sorted_dict_asc = dict(sorted(my_dict.items()))\n",
        "\n",
        "# Sort the dictionary by key in descending order\n",
        "sorted_dict_desc = dict(sorted(my_dict.items(), reverse=True))\n",
        "\n",
        "# Print the sorted dictionaries\n",
        "print(\"Sorted dictionary by key in ascending order:\", sorted_dict_asc)\n",
        "print(\"Sorted dictionary by key in descending order:\", sorted_dict_desc)"
      ],
      "metadata": {
        "colab": {
          "base_uri": "https://localhost:8080/"
        },
        "id": "wNOmbN2MiUZ7",
        "outputId": "d3696ddc-a0f8-46f4-be29-a2f8537f58e7"
      },
      "execution_count": 15,
      "outputs": [
        {
          "output_type": "stream",
          "name": "stdout",
          "text": [
            "Sorted dictionary by key in ascending order: {'apple': 3, 'banana': 2, 'orange': 1, 'pear': 4}\n",
            "Sorted dictionary by key in descending order: {'pear': 4, 'orange': 1, 'banana': 2, 'apple': 3}\n"
          ]
        }
      ]
    },
    {
      "cell_type": "markdown",
      "source": [
        "9. Write a Python program to add key to a dictionary. Go to the editor Sample Dictionary : {0: 10,\n",
        "1: 20} Expected Result : {0: 10, 1: 20, 2: 30}\n"
      ],
      "metadata": {
        "id": "OW5rANLjigEr"
      }
    },
    {
      "cell_type": "code",
      "source": [
        "# Define the input dictionary\n",
        "my_dict = {0: 10, 1: 20}\n",
        "\n",
        "# Add a new key-value pair to the dictionary\n",
        "my_dict[2] = 30\n",
        "\n",
        "# Print the updated dictionary\n",
        "print(\"Updated dictionary:\", my_dict)"
      ],
      "metadata": {
        "colab": {
          "base_uri": "https://localhost:8080/"
        },
        "id": "T5l-w2rUihPa",
        "outputId": "e0a42c2b-5811-4a31-8519-436102b5cffd"
      },
      "execution_count": 16,
      "outputs": [
        {
          "output_type": "stream",
          "name": "stdout",
          "text": [
            "Updated dictionary: {0: 10, 1: 20, 2: 30}\n"
          ]
        }
      ]
    },
    {
      "cell_type": "markdown",
      "source": [
        "10. Write a Pandas program to create and display a DataFrame from a specified dictionary data\n",
        "which has the index labels. Sample Python dictionary data and list labels: exam_data = {'name':\n",
        "['Arif', 'Asir', 'Arik', 'Anis', 'Anil', 'Ashish', 'Anahi', 'Alia', 'Alvin', 'Asim'], 'score': [12.5, 9, 16.5,\n",
        "np.nan, 9, 20, 14.5, np.nan, 8, 19], 'attempts': [1, 3, 2, 3, 2, 3, 1, 1, 2, 1], 'qualify': ['yes', 'no',\n",
        "'yes', 'no', 'no', 'yes', 'yes', 'no', 'no', 'yes']} labels = ['a', 'b', 'c', 'd', 'e', 'f', 'g', 'h', 'i',’j’]"
      ],
      "metadata": {
        "id": "dEhRBIjmimh_"
      }
    },
    {
      "cell_type": "code",
      "source": [
        "import pandas as pd\n",
        "import numpy as np\n",
        "\n",
        "# Define the dictionary data\n",
        "exam_data = {'name': ['Arif', 'Asir', 'Arik', 'Anis', 'Anil', 'Ashish', 'Anahi', 'Alia', 'Alvin', 'Asim'],\n",
        "             'score': [12.5, 9, 16.5, np.nan, 9, 20, 14.5, np.nan, 8, 19],\n",
        "             'attempts': [1, 3, 2, 3, 2, 3, 1, 1, 2, 1],\n",
        "             'qualify': ['yes', 'no', 'yes', 'no', 'no', 'yes', 'yes', 'no', 'no', 'yes']}\n",
        "\n",
        "# Define the index labels\n",
        "labels = ['a', 'b', 'c', 'd', 'e', 'f', 'g', 'h', 'i', 'j']\n",
        "\n",
        "# Create the DataFrame\n",
        "df = pd.DataFrame(exam_data, index=labels)\n",
        "\n",
        "# Display the DataFrame\n",
        "print(df)"
      ],
      "metadata": {
        "colab": {
          "base_uri": "https://localhost:8080/"
        },
        "id": "jcLazDFvivI4",
        "outputId": "be6dc815-7bf9-4227-be05-87b0025430ab"
      },
      "execution_count": 18,
      "outputs": [
        {
          "output_type": "stream",
          "name": "stdout",
          "text": [
            "     name  score  attempts qualify\n",
            "a    Arif   12.5         1     yes\n",
            "b    Asir    9.0         3      no\n",
            "c    Arik   16.5         2     yes\n",
            "d    Anis    NaN         3      no\n",
            "e    Anil    9.0         2      no\n",
            "f  Ashish   20.0         3     yes\n",
            "g   Anahi   14.5         1     yes\n",
            "h    Alia    NaN         1      no\n",
            "i   Alvin    8.0         2      no\n",
            "j    Asim   19.0         1     yes\n"
          ]
        }
      ]
    }
  ]
}